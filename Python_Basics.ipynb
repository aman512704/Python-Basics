{
  "nbformat": 4,
  "nbformat_minor": 0,
  "metadata": {
    "colab": {
      "provenance": []
    },
    "kernelspec": {
      "name": "python3",
      "display_name": "Python 3"
    },
    "language_info": {
      "name": "python"
    }
  },
  "cells": [
    {
      "cell_type": "markdown",
      "source": [
        "#Python Baics\n"
      ],
      "metadata": {
        "id": "du7FU9q8YsxM"
      }
    },
    {
      "cell_type": "markdown",
      "source": [
        "\n",
        "Name:AMAN SHARMA\n",
        "Date:12.09.2025"
      ],
      "metadata": {
        "id": "mMJWzr6HYCfa"
      }
    },
    {
      "cell_type": "markdown",
      "source": [
        "**1. What is Python, and why is it popular?**  \\\n",
        "    Python is a high-level, interpreted programming language known for its simple syntax and readability. It's popular because it is easy to learn, has a large standard library, a huge ecosystem of third-party packages (for web, data science, automation), and strong community support.\n",
        "\n",
        "**2. What is an interpreter in Python?**  \n",
        "    An interpreter is a program that reads and executes Python code line-by-line. Unlike compiled languages, Python code is executed by the interpreter directly without a separate compilation step.\n",
        "\n",
        "**3. What are pre-defined keywords in Python?**  \n",
        "    Keywords are reserved words that have special meaning in Python (e.g., `if`, `for`, `while`, `def`, `class`, `import`). They cannot be used as identifiers (variable/function names).\n",
        "\n",
        "**4. Can keywords be used as variable names?**   \n",
        "    No,keywords are reserved and we cannot use them as variable names.\n",
        "\n",
        "**5. What is mutability in Python?**  \n",
        "    Mutability describes whether an object's content can be changed after creation. Mutable objects (like lists, dicts, sets) can be changed; but immutable objects (like tuples, strings, numbers) cannot.\n",
        "\n",
        "**6. Why are lists mutable, but tuples are immutable?**  \n",
        "    Practically: lists are designed to allow item assignment and resizing, so methods like `.append()` are provided. Tuples are fixed sequences, useful for constant data and for performance/ hashability in some cases. Internally their memory layout prevents in-place item reassignment.\n",
        "\n",
        "**7. Difference between `==` and `is` operators**  \n",
        "    `==` checks value equality (do these two objects have the same value?), while `is` checks identity (do these two names point to the exact same object in memory?).\n",
        "\n",
        "**8. What are logical operators in Python?**  \n",
        "    `and`, `or`, `not` — used to combine or invert boolean expressions.\n",
        "\n",
        "**9. What is type casting in Python?**  \n",
        "    Converting a value from one type to another (e.g., `int(\"42\")`, `float(3)`, `str(100)`).\n",
        "\n",
        "**10. Difference between implicit and explicit type casting**  \n",
        "    Implicit: Python automatically converts types during expressions (e.g., `3 + 4.5` → `7.5` float).  \n",
        "    Explicit: Programmer forces conversion using functions like `int()`, `float()`, `str()`.\n",
        "\n",
        "**11. Purpose of conditional statements**  \n",
        "    To execute different code paths depending on conditions (e.g., `if`, `elif`, `else`).\n",
        "\n",
        "**12. How does `elif` work?**  \n",
        "    `elif` (else-if) is checked if the previous `if`/`elif` was False; it allows multiple exclusive branches.\n",
        "\n",
        "**13. Difference between `for` and `while` loops**  \n",
        "    `for` iterates over a sequence (known number of steps usually). `while` repeats as long as a condition is True (useful when number of iterations isn't known).\n",
        "\n",
        "**14. When a `while` loop is more suitable than `for`**  \n",
        "    When you keep looping until a condition changes externally (e.g., waiting for user input to be valid, or reading from a stream until EOF).\n",
        "\n",
        "\n"
      ],
      "metadata": {
        "id": "C789F_yCZVMW"
      }
    },
    {
      "cell_type": "code",
      "source": [
        "# 1) Print Hello World\n",
        "print(\"Hello, World!\")\n",
        "\n",
        "# 2) Display name and age\n",
        "name = \"AMAN SHARMA  \"\n",
        "age = 26\n",
        "print(f\"My name is {name} and I am {age} years old.\")\n"
      ],
      "metadata": {
        "id": "I5pxr4Gpa-ju",
        "colab": {
          "base_uri": "https://localhost:8080/"
        },
        "outputId": "33893843-64e2-429d-9689-59dc7f19e3f0"
      },
      "execution_count": 15,
      "outputs": [
        {
          "output_type": "stream",
          "name": "stdout",
          "text": [
            "Hello, World!\n",
            "My name is AMAN SHARMA   and I am 26 years old.\n"
          ]
        }
      ]
    },
    {
      "cell_type": "code",
      "source": [
        "# 3) Print all predefined keywords in Python\n",
        "import keyword\n",
        "print(\"Python keywords:\", keyword.kwlist)\n",
        "\n",
        "# 4) Check if a given word is a keyword\n",
        "def is_keyword(word):\n",
        "    return keyword.iskeyword(word)\n",
        "\n",
        "test_word = \"while\"\n",
        "print(test_word, \"is a keyword?\", is_keyword(test_word))\n",
        "\n",
        "test_word2 = \"myvar\"\n",
        "print(test_word2, \"is a keyword?\", is_keyword(test_word2))\n"
      ],
      "metadata": {
        "id": "XpMfrCo9bC9N",
        "colab": {
          "base_uri": "https://localhost:8080/"
        },
        "outputId": "2d4742ec-7deb-4e4f-d888-1109c97ceded"
      },
      "execution_count": 16,
      "outputs": [
        {
          "output_type": "stream",
          "name": "stdout",
          "text": [
            "Python keywords: ['False', 'None', 'True', 'and', 'as', 'assert', 'async', 'await', 'break', 'class', 'continue', 'def', 'del', 'elif', 'else', 'except', 'finally', 'for', 'from', 'global', 'if', 'import', 'in', 'is', 'lambda', 'nonlocal', 'not', 'or', 'pass', 'raise', 'return', 'try', 'while', 'with', 'yield']\n",
            "while is a keyword? True\n",
            "myvar is a keyword? False\n"
          ]
        }
      ]
    },
    {
      "cell_type": "code",
      "source": [
        "# 5) Demonstrate behavior of mutable vs immutable arguments\n",
        "\n",
        "def modify_list(a_list):\n",
        "    # modifies in-place\n",
        "    a_list.append(\"new-item\")\n",
        "    print(\"inside modify_list:\", a_list)\n",
        "\n",
        "def modify_int(a_int):\n",
        "    a_int += 10\n",
        "    print(\"inside modify_int:\", a_int)\n",
        "\n",
        "L = [1, 2, 3]\n",
        "print(\"before modify_list:\", L)\n",
        "modify_list(L)\n",
        "print(\"after modify_list:\", L)\n",
        "\n",
        "n = 5\n",
        "print(\"before modify_int:\", n)\n",
        "modify_int(n)\n",
        "print(\"after modify_int:\", n)\n"
      ],
      "metadata": {
        "colab": {
          "base_uri": "https://localhost:8080/"
        },
        "id": "uiXkcO7PbInN",
        "outputId": "512ed5dc-f249-43d4-d6b1-3ff60abb0925"
      },
      "execution_count": 17,
      "outputs": [
        {
          "output_type": "stream",
          "name": "stdout",
          "text": [
            "before modify_list: [1, 2, 3]\n",
            "inside modify_list: [1, 2, 3, 'new-item']\n",
            "after modify_list: [1, 2, 3, 'new-item']\n",
            "before modify_int: 5\n",
            "inside modify_int: 15\n",
            "after modify_int: 5\n"
          ]
        }
      ]
    },
    {
      "cell_type": "code",
      "source": [
        "# 6) Basic arithmetic operations with safe input handling\n",
        "\n",
        "def arithmetic_operations():\n",
        "    a = input(\"Enter first number: \").strip()\n",
        "    b = input(\"Enter second number: \").strip()\n",
        "    try:\n",
        "        x = float(a)\n",
        "        y = float(b)\n",
        "    except ValueError:\n",
        "        print(\"Please enter valid numbers.\")\n",
        "        return\n",
        "\n",
        "    print(f\"{x} + {y} = {x+y}\")\n",
        "    print(f\"{x} - {y} = {x-y}\")\n",
        "    print(f\"{x} * {y} = {x*y}\")\n",
        "    if y != 0:\n",
        "        print(f\"{x} / {y} = {x/y}\")\n",
        "        print(f\"{x} // {y} = {x//y} (floor div)\")\n",
        "        print(f\"{x} % {y} = {x%y} (remainder)\")\n",
        "    else:\n",
        "        print(\"Cannot divide by zero.\")\n",
        "    print(f\"{x} ** {y} = {x**y}\")\n",
        "\n",
        "\n"
      ],
      "metadata": {
        "id": "EzQqS0OSbMN2"
      },
      "execution_count": 18,
      "outputs": []
    },
    {
      "cell_type": "code",
      "source": [
        "# 7) Logical operators demo\n",
        "a = True\n",
        "b = False\n",
        "\n",
        "print(\"a and b:\", a and b)\n",
        "print(\"a or b:\", a or b)\n",
        "print(\"not a:\", not a)\n",
        "\n",
        "# Example with numbers and comparisons\n",
        "x, y = 10, 20\n",
        "print(\"x < y and x > 0:\", (x < y) and (x > 0))\n",
        "print(\"x == 10 or y == 10:\", (x == 10) or (y == 10))\n"
      ],
      "metadata": {
        "id": "fyKGwxfpbbbX",
        "colab": {
          "base_uri": "https://localhost:8080/"
        },
        "outputId": "0434a93d-9afc-40b2-f434-cd0333efe61b"
      },
      "execution_count": 19,
      "outputs": [
        {
          "output_type": "stream",
          "name": "stdout",
          "text": [
            "a and b: False\n",
            "a or b: True\n",
            "not a: False\n",
            "x < y and x > 0: True\n",
            "x == 10 or y == 10: True\n"
          ]
        }
      ]
    },
    {
      "cell_type": "code",
      "source": [
        "# 8) List vs Tuple mutability demo\n",
        "my_list = [10, 20, 30]\n",
        "my_tuple = (10, 20, 30)\n",
        "\n",
        "print(\"Original list:\", my_list)\n",
        "my_list[1] = 999      # allowed\n",
        "print(\"Modified list:\", my_list)\n",
        "\n",
        "print(\"Original tuple:\", my_tuple)\n",
        "try:\n",
        "    # this will cause an error\n",
        "    my_tuple[1] = 999\n",
        "except TypeError as e:\n",
        "    print(\"Trying to modify tuple gives error:\", e)\n"
      ],
      "metadata": {
        "id": "aWo-hNWmbdXN",
        "colab": {
          "base_uri": "https://localhost:8080/"
        },
        "outputId": "bcf44439-d57b-49b8-9443-a58e8b238d80"
      },
      "execution_count": 20,
      "outputs": [
        {
          "output_type": "stream",
          "name": "stdout",
          "text": [
            "Original list: [10, 20, 30]\n",
            "Modified list: [10, 999, 30]\n",
            "Original tuple: (10, 20, 30)\n",
            "Trying to modify tuple gives error: 'tuple' object does not support item assignment\n"
          ]
        }
      ]
    },
    {
      "cell_type": "code",
      "source": [
        "# 9) Convert user input string to int, float, bool\n",
        "s = \"123\"\n",
        "print(\"as int:\", int(s))\n",
        "print(\"as float:\", float(s))\n",
        "# bool('') is False, bool of non-empty string True\n",
        "print(\"as bool (non-empty string):\", bool(s))\n",
        "\n",
        "# convert a numeric string with decimals\n",
        "s2 = \"45.67\"\n",
        "print(\"float then int:\", int(float(s2)))\n"
      ],
      "metadata": {
        "id": "HcHmLKupbf9V",
        "colab": {
          "base_uri": "https://localhost:8080/"
        },
        "outputId": "3566169d-fc03-414a-8ecf-fe9dbbf7b7d7"
      },
      "execution_count": 21,
      "outputs": [
        {
          "output_type": "stream",
          "name": "stdout",
          "text": [
            "as int: 123\n",
            "as float: 123.0\n",
            "as bool (non-empty string): True\n",
            "float then int: 45\n"
          ]
        }
      ]
    },
    {
      "cell_type": "code",
      "source": [
        "# 10) Type casting with list elements\n",
        "items = [\"1\", \"2\", \"3.5\", \"4\"]\n",
        "print(\"original:\", items)\n",
        "\n",
        "# convert to numbers where possible\n",
        "converted = []\n",
        "for it in items:\n",
        "    if \".\" in it:\n",
        "        converted.append(float(it))\n",
        "    else:\n",
        "        converted.append(int(it))\n",
        "print(\"converted:\", converted)\n"
      ],
      "metadata": {
        "id": "Y_pz7UjObh8-",
        "colab": {
          "base_uri": "https://localhost:8080/"
        },
        "outputId": "797ee412-a86d-46e8-d093-87f4eda66fed"
      },
      "execution_count": 22,
      "outputs": [
        {
          "output_type": "stream",
          "name": "stdout",
          "text": [
            "original: ['1', '2', '3.5', '4']\n",
            "converted: [1, 2, 3.5, 4]\n"
          ]
        }
      ]
    },
    {
      "cell_type": "code",
      "source": [
        "# 11) Check number sign\n",
        "def check_sign(x):\n",
        "    if x > 0:\n",
        "        return \"Positive\"\n",
        "    elif x < 0:\n",
        "        return \"Negative\"\n",
        "    else:\n",
        "        return \"Zero\"\n",
        "\n",
        "print(check_sign(5))\n",
        "print(check_sign(-3))\n",
        "print(check_sign(0))\n"
      ],
      "metadata": {
        "id": "ertIuKn6bkMc",
        "colab": {
          "base_uri": "https://localhost:8080/"
        },
        "outputId": "cdbc2c33-0097-4a7c-ab31-b580fc7aea8c"
      },
      "execution_count": 23,
      "outputs": [
        {
          "output_type": "stream",
          "name": "stdout",
          "text": [
            "Positive\n",
            "Negative\n",
            "Zero\n"
          ]
        }
      ]
    },
    {
      "cell_type": "code",
      "source": [
        "# 12) For loop print 1 to 10\n",
        "for i in range(1, 11):\n",
        "    print(i, end=\" \")\n",
        "print()\n"
      ],
      "metadata": {
        "id": "AzX3B-NPbm00",
        "colab": {
          "base_uri": "https://localhost:8080/"
        },
        "outputId": "19e1e19b-2421-4913-c699-ba7fd3587702"
      },
      "execution_count": 24,
      "outputs": [
        {
          "output_type": "stream",
          "name": "stdout",
          "text": [
            "1 2 3 4 5 6 7 8 9 10 \n"
          ]
        }
      ]
    },
    {
      "cell_type": "code",
      "source": [
        "# 13) Sum of even numbers 1..50\n",
        "total = sum(i for i in range(1, 51) if i % 2 == 0)\n",
        "print(\"Sum of even numbers from 1 to 50:\", total)\n"
      ],
      "metadata": {
        "id": "ryETFVS_bott",
        "colab": {
          "base_uri": "https://localhost:8080/"
        },
        "outputId": "f22799e5-4669-4a9a-a4de-da13c2b51d9f"
      },
      "execution_count": 25,
      "outputs": [
        {
          "output_type": "stream",
          "name": "stdout",
          "text": [
            "Sum of even numbers from 1 to 50: 650\n"
          ]
        }
      ]
    },
    {
      "cell_type": "code",
      "source": [
        "# 14) Reverse a string with a while loop\n",
        "s = \"PWSkills\"\n",
        "i = len(s) - 1\n",
        "rev = \"\"\n",
        "while i >= 0:\n",
        "    rev += s[i]\n",
        "    i -= 1\n",
        "print(\"Original:\", s)\n",
        "print(\"Reversed:\", rev)\n"
      ],
      "metadata": {
        "id": "bkZXfI2SbqcF",
        "colab": {
          "base_uri": "https://localhost:8080/"
        },
        "outputId": "891e62de-3e8f-4cee-a03c-7a7483d77d4b"
      },
      "execution_count": 26,
      "outputs": [
        {
          "output_type": "stream",
          "name": "stdout",
          "text": [
            "Original: PWSkills\n",
            "Reversed: sllikSWP\n"
          ]
        }
      ]
    },
    {
      "cell_type": "code",
      "source": [
        "# 15) Factorial using while loop\n",
        "def factorial(n):\n",
        "    if n < 0:\n",
        "        return None\n",
        "    result = 1\n",
        "    i = 1\n",
        "    while i <= n:\n",
        "        result *= i\n",
        "        i += 1\n",
        "    return result\n",
        "\n",
        "print(\"5! =\", factorial(5))\n",
        "# try user input in interactive run:\n",
        "# n = int(input(\"Enter a non-negative integer: \"))\n",
        "# print(f\"{n}! =\", factorial(n))\n"
      ],
      "metadata": {
        "id": "8tNtFLxAbs0E",
        "colab": {
          "base_uri": "https://localhost:8080/"
        },
        "outputId": "b9b01973-a2ad-46cd-9012-0c3f89030a57"
      },
      "execution_count": 27,
      "outputs": [
        {
          "output_type": "stream",
          "name": "stdout",
          "text": [
            "5! = 120\n"
          ]
        }
      ]
    }
  ]
}